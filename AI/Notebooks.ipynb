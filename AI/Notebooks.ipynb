{
 "cells": [
  {
   "metadata": {},
   "cell_type": "markdown",
   "source": [
    "# Jupyter Notebooks\n",
    "Voor de oefeningen van de eerste les AI maken we gebruik van Jupyter Notebook. Dit is een soort van uitbreiding op Python, waar je documentatie (in Markdown) en Python-code kunt afwisselen.\n",
    "\n",
    "Om een Jupyter Notebook te openen kun je gebruik maken van Google Colab (account vereist) of PyCharm. Bij het openen van de eerste file in PyCharm is de documentatie leesbaar, maar kan het even duren voordat je code kunt draaien omdat er benodigdheden nog worden gedownload.\n",
    "\n",
    "Een Notebook is opgebouwd uit cellen, die van boven naar beneden lopen. Het is mogelijk om elke cel afzonderlijk te draaien (gebruik hiervoor de play-knop linksboven in de cel of SHIFT+ENTER), maar doorgaans is een notebook bedoeld om van boven naar beneden uitgevoerd te worden. Met de \"run all\" knop (dubbele groene driehoekje in PyCharm) gaat dit automatisch goed.\n",
    "\n",
    "### Opdracht\n",
    "**1. Druk nu, als je dat nog niet hebt gedaan, op \"run all\" en wacht tot alles uitgevoerd is. Per cel wordt aangegeven of de cel draait of klaar is, en hoe lang de laatste uitvoer geduurd heeft.**\n",
    "\n",
    "De cel hieronder bevat een Python functie, die met nu gedraaid zou moeten zijn:"
   ],
   "id": "37d865cbc5a15503"
  },
  {
   "metadata": {},
   "cell_type": "code",
   "source": [
    "def mijn_product(lijst):\n",
    "    product = 0\n",
    "    for getal in lijst:\n",
    "        product *= getal\n",
    "    return product"
   ],
   "id": "77e6dcb6ed74108f",
   "outputs": [],
   "execution_count": null
  },
  {
   "metadata": {},
   "cell_type": "markdown",
   "source": [
    "In de cel hieronder wordt de functie als test aangeroepen. We zien dat het product van een lege lijst `0` is. Laten we de cel nog een keer uitvoeren, maar nu met de lijst `[1, 2, 3]`.\n",
    "\n",
    "### Opdracht\n",
    "**2. Pas de lijst in de aanroep aan, en voer de cel opnieuw uit. Doe dit voor een aantal test-lijsten.**\n",
    "*Je hoeft de cel met de functiedefinitie niet opnieuw uit te voeren.*"
   ],
   "id": "995c6749b76f3502"
  },
  {
   "metadata": {},
   "cell_type": "code",
   "source": [
    "lijst = []\n",
    "print(f\"Het product van de lijst {lijst} is {mijn_product(lijst)}\")"
   ],
   "id": "793e73227efd1372",
   "outputs": [],
   "execution_count": null
  },
  {
   "metadata": {},
   "cell_type": "markdown",
   "source": [
    "Het product is nog steeds `0`. Hier gaat iets mis!\n",
    "\n",
    "De code begint met een product van `0`, maar dit werkt niet omdat we nu alles met `0` vermenigvuldigen. Beter is het om de waarde `1` als start te nemen. \n",
    "\n",
    "### Opdracht\n",
    "**3. Pas de code aan in de eerste cel, en draai deze opnieuw.**\n",
    "\n",
    "*Python heeft nu de nieuwe functie-definitie, maar past niet automatisch eerdere resultaten aan.*\n",
    "\n",
    "**4. Draai de cel met test-code nog een keer. Als het goed is werkt de functie nu naar verwachting.**\n",
    "\n",
    "Ga nu verder met de Notebooks voor Beeldherkenning en Taalgeneratie. Begin steeds met een \"run all\" (dit kan steeds even duren, omdat er benodigdheden worden gedownload). Let daarna goed op welke cellen je aanpast, en dat je deze ook uitvoert.\n",
    "\n"
   ],
   "id": "cc0d66424c08fd8e"
  },
  {
   "metadata": {},
   "cell_type": "code",
   "source": "",
   "id": "40731091bd2f83f2",
   "outputs": [],
   "execution_count": null
  }
 ],
 "metadata": {
  "kernelspec": {
   "display_name": "Python 3",
   "language": "python",
   "name": "python3"
  },
  "language_info": {
   "codemirror_mode": {
    "name": "ipython",
    "version": 2
   },
   "file_extension": ".py",
   "mimetype": "text/x-python",
   "name": "python",
   "nbconvert_exporter": "python",
   "pygments_lexer": "ipython2",
   "version": "2.7.6"
  }
 },
 "nbformat": 4,
 "nbformat_minor": 5
}
